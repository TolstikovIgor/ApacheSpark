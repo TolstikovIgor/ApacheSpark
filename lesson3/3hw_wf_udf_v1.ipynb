{
  "nbformat": 4,
  "nbformat_minor": 0,
  "metadata": {
    "colab": {
      "name": "3hw_wf_udf_v1.ipynb",
      "provenance": [],
      "collapsed_sections": []
    },
    "kernelspec": {
      "name": "python3",
      "display_name": "Python 3"
    },
    "language_info": {
      "name": "python"
    }
  },
  "cells": [
    {
      "cell_type": "code",
      "metadata": {
        "colab": {
          "base_uri": "https://localhost:8080/"
        },
        "id": "W5AsCKO5Nqsh",
        "outputId": "d68e792a-ed4c-4e89-aa38-bf0e4b187887"
      },
      "source": [
        "!pip install pyspark"
      ],
      "execution_count": null,
      "outputs": [
        {
          "output_type": "stream",
          "name": "stdout",
          "text": [
            "Collecting pyspark\n",
            "  Downloading pyspark-3.1.2.tar.gz (212.4 MB)\n",
            "\u001b[K     |████████████████████████████████| 212.4 MB 71 kB/s \n",
            "\u001b[?25hCollecting py4j==0.10.9\n",
            "  Downloading py4j-0.10.9-py2.py3-none-any.whl (198 kB)\n",
            "\u001b[K     |████████████████████████████████| 198 kB 48.3 MB/s \n",
            "\u001b[?25hBuilding wheels for collected packages: pyspark\n",
            "  Building wheel for pyspark (setup.py) ... \u001b[?25l\u001b[?25hdone\n",
            "  Created wheel for pyspark: filename=pyspark-3.1.2-py2.py3-none-any.whl size=212880768 sha256=7e039815ef845dbde39db40e7b8170e209dfcfe18ca414cc58a3ee5f9f5e8c4c\n",
            "  Stored in directory: /root/.cache/pip/wheels/a5/0a/c1/9561f6fecb759579a7d863dcd846daaa95f598744e71b02c77\n",
            "Successfully built pyspark\n",
            "Installing collected packages: py4j, pyspark\n",
            "Successfully installed py4j-0.10.9 pyspark-3.1.2\n"
          ]
        }
      ]
    },
    {
      "cell_type": "code",
      "metadata": {
        "id": "E3Q9g_UyNxS6"
      },
      "source": [
        "from pyspark.sql import SparkSession\n",
        "spark = SparkSession.builder\\\n",
        "    .master(\"local[2]\")\\\n",
        "    .appName(\"Lesson_3\")\\\n",
        "    .config(\"spark.executor.instances\",2)\\\n",
        "    .config(\"spark.executor.memory\",'2g')\\\n",
        "    .config(\"spark.executor.cores\",1)\\\n",
        "    .getOrCreate()\n",
        "sc = spark.sparkContext"
      ],
      "execution_count": null,
      "outputs": []
    },
    {
      "cell_type": "markdown",
      "metadata": {
        "id": "dVGNGR7pN1KC"
      },
      "source": [
        "# Самостоятельная работа к уроку 3\n",
        "На уроке мы попробовали оконные и пользовательские функции. Теперь закрепим полученные знания."
      ]
    },
    {
      "cell_type": "markdown",
      "metadata": {
        "id": "agigNChqOHnK"
      },
      "source": [
        "## Данные: [google drive: raw_sales.csv](https://drive.google.com/file/d/1G2N7Mnt4-Tqz4JdJxutGDMbJiOr32kZp/view?usp=sharing)\n",
        "\n",
        " Каждая строчка это продажа жилья, которая состоит из следующих полей (думаю описание не требуется):\n",
        "*   date of sale\n",
        "*   price\n",
        "*   property type\n",
        "*   number of bedrooms\n",
        "*   4digit postcode"
      ]
    },
    {
      "cell_type": "code",
      "metadata": {
        "id": "hfS-oF0mj6K6"
      },
      "source": [
        "from pyspark.sql.functions import *"
      ],
      "execution_count": null,
      "outputs": []
    },
    {
      "cell_type": "code",
      "metadata": {
        "colab": {
          "base_uri": "https://localhost:8080/"
        },
        "id": "f_HkZz8i55Qw",
        "outputId": "ed049db2-337e-4308-bfe7-ac2f71fcb552"
      },
      "source": [
        "data = sc.textFile('raw_sales.csv')\n",
        "data.take(3)"
      ],
      "execution_count": null,
      "outputs": [
        {
          "output_type": "execute_result",
          "data": {
            "text/plain": [
              "['datesold,postcode,price,propertyType,bedrooms',\n",
              " '2007-07-08 00:00:00,2600,327000,house,1',\n",
              " '2007-08-16 00:00:00,2600,790000,house,4']"
            ]
          },
          "metadata": {},
          "execution_count": 200
        }
      ]
    },
    {
      "cell_type": "code",
      "metadata": {
        "id": "Ap9SWWVi7uP_"
      },
      "source": [
        "df = spark.read.csv('raw_sales.csv', header=True, inferSchema=True)"
      ],
      "execution_count": null,
      "outputs": []
    },
    {
      "cell_type": "code",
      "metadata": {
        "colab": {
          "base_uri": "https://localhost:8080/"
        },
        "id": "GBywfZH_7LdH",
        "outputId": "c88e341d-30f8-47c1-fa70-3e0054be0f62"
      },
      "source": [
        "df.registerTempTable('df')\n",
        "df.show(3)"
      ],
      "execution_count": null,
      "outputs": [
        {
          "output_type": "stream",
          "name": "stdout",
          "text": [
            "+-------------------+--------+------+------------+--------+\n",
            "|           datesold|postcode| price|propertyType|bedrooms|\n",
            "+-------------------+--------+------+------------+--------+\n",
            "|2007-07-08 00:00:00|    2600|327000|       house|       1|\n",
            "|2007-08-16 00:00:00|    2600|790000|       house|       4|\n",
            "|2007-12-05 00:00:00|    2600|825000|       house|       3|\n",
            "+-------------------+--------+------+------------+--------+\n",
            "only showing top 3 rows\n",
            "\n"
          ]
        }
      ]
    },
    {
      "cell_type": "code",
      "metadata": {
        "id": "NsUKEiRTUOtT",
        "colab": {
          "base_uri": "https://localhost:8080/"
        },
        "outputId": "b84c3bae-61f3-4dab-d722-a1eaac1e9f9f"
      },
      "source": [
        "from pyspark.sql import functions as F\n",
        "from pyspark.sql.types import *\n",
        "from pyspark.sql.window import Window\n",
        "\n",
        "\n",
        "windSpec = Window\\\n",
        "    .partitionBy('postcode')\\\n",
        "    .orderBy('datesold')\n",
        "df.show(3)"
      ],
      "execution_count": null,
      "outputs": [
        {
          "output_type": "stream",
          "name": "stdout",
          "text": [
            "+-------------------+--------+------+------------+--------+\n",
            "|           datesold|postcode| price|propertyType|bedrooms|\n",
            "+-------------------+--------+------+------------+--------+\n",
            "|2007-07-08 00:00:00|    2600|327000|       house|       1|\n",
            "|2007-08-16 00:00:00|    2600|790000|       house|       4|\n",
            "|2007-12-05 00:00:00|    2600|825000|       house|       3|\n",
            "+-------------------+--------+------+------------+--------+\n",
            "only showing top 3 rows\n",
            "\n"
          ]
        }
      ]
    },
    {
      "cell_type": "code",
      "metadata": {
        "colab": {
          "base_uri": "https://localhost:8080/"
        },
        "id": "Iq5_R_L08Huv",
        "outputId": "2519f27e-0755-47a8-8bcd-7cb50b68fdaf"
      },
      "source": [
        "spark.sql('select *, row_number() over ( partition by postcode order by datesold ) as rn from df').show(3)"
      ],
      "execution_count": null,
      "outputs": [
        {
          "output_type": "stream",
          "name": "stdout",
          "text": [
            "+-------------------+--------+------+------------+--------+---+\n",
            "|           datesold|postcode| price|propertyType|bedrooms| rn|\n",
            "+-------------------+--------+------+------------+--------+---+\n",
            "|2007-07-02 00:00:00|    2914|800000|       house|       5|  1|\n",
            "|2008-06-17 00:00:00|    2914|600000|       house|       4|  2|\n",
            "|2008-08-29 00:00:00|    2914|465000|       house|       4|  3|\n",
            "+-------------------+--------+------+------------+--------+---+\n",
            "only showing top 3 rows\n",
            "\n"
          ]
        }
      ]
    },
    {
      "cell_type": "markdown",
      "metadata": {
        "id": "1yg3VFtmBRb3"
      },
      "source": [
        "## Задание 1\n",
        "Добавьте к таблице следующие поля:\n",
        "*  Средняя стомость 10 проданных домов до текущего в том же районе (4digit postcode) (1 балл)\n",
        "*  Средняя стомость 10 проданных домов после текущего в том же районе (4digit postcode) (1 балл)\n",
        "*  Стоимость последнего проданного дома до текущего (1 балл)\n"
      ]
    },
    {
      "cell_type": "code",
      "metadata": {
        "id": "WrB1fbcuBDrb",
        "colab": {
          "base_uri": "https://localhost:8080/"
        },
        "outputId": "00181e88-6c8a-4fcf-959a-a626a639e801"
      },
      "source": [
        "windSpec = Window\\\n",
        "    .partitionBy('postcode')\\\n",
        "    .orderBy('datesold')\\\n",
        "    .rowsBetween(-10, Window.currentRow)\n",
        "df.withColumn('rn', F.avg('price').over(windSpec)).show(5)"
      ],
      "execution_count": null,
      "outputs": [
        {
          "output_type": "stream",
          "name": "stdout",
          "text": [
            "+-------------------+--------+------+------------+--------+-----------------+\n",
            "|           datesold|postcode| price|propertyType|bedrooms|               rn|\n",
            "+-------------------+--------+------+------------+--------+-----------------+\n",
            "|2007-07-02 00:00:00|    2914|800000|       house|       5|         800000.0|\n",
            "|2008-06-17 00:00:00|    2914|600000|       house|       4|         700000.0|\n",
            "|2008-08-29 00:00:00|    2914|465000|       house|       4|621666.6666666666|\n",
            "|2008-09-02 00:00:00|    2914|541000|       house|       4|         601500.0|\n",
            "|2008-09-05 00:00:00|    2914|395000|       house|       3|         560200.0|\n",
            "+-------------------+--------+------+------------+--------+-----------------+\n",
            "only showing top 5 rows\n",
            "\n"
          ]
        }
      ]
    },
    {
      "cell_type": "code",
      "metadata": {
        "colab": {
          "base_uri": "https://localhost:8080/"
        },
        "id": "MvCelx5W9Cbb",
        "outputId": "3cbb2c70-fdb5-40ff-8003-b2860c457516"
      },
      "source": [
        "windSpec = Window\\\n",
        "    .partitionBy('postcode')\\\n",
        "    .orderBy('datesold')\\\n",
        "    .rowsBetween(Window.currentRow, 10)\n",
        "df.withColumn('rn', F.avg('price').over(windSpec)).show(5)"
      ],
      "execution_count": null,
      "outputs": [
        {
          "output_type": "stream",
          "name": "stdout",
          "text": [
            "+-------------------+--------+------+------------+--------+------------------+\n",
            "|           datesold|postcode| price|propertyType|bedrooms|                rn|\n",
            "+-------------------+--------+------+------------+--------+------------------+\n",
            "|2007-07-02 00:00:00|    2914|800000|       house|       5| 529818.1818181818|\n",
            "|2008-06-17 00:00:00|    2914|600000|       house|       4| 497090.9090909091|\n",
            "|2008-08-29 00:00:00|    2914|465000|       house|       4| 485727.2727272727|\n",
            "|2008-09-02 00:00:00|    2914|541000|       house|       4|486863.63636363635|\n",
            "|2008-09-05 00:00:00|    2914|395000|       house|       3| 486772.7272727273|\n",
            "+-------------------+--------+------+------------+--------+------------------+\n",
            "only showing top 5 rows\n",
            "\n"
          ]
        }
      ]
    },
    {
      "cell_type": "code",
      "metadata": {
        "colab": {
          "base_uri": "https://localhost:8080/"
        },
        "id": "fYnLxI66FkO-",
        "outputId": "d4408e71-ff43-45ee-ccfb-4723438d2a9a"
      },
      "source": [
        "windSpec = Window\\\n",
        "    .partitionBy('postcode')\\\n",
        "    .orderBy('datesold')\\\n",
        "    .rowsBetween(-1, -1)\n",
        "df.withColumn('rn', F.avg('price').over(windSpec)).show(5)"
      ],
      "execution_count": null,
      "outputs": [
        {
          "output_type": "stream",
          "name": "stdout",
          "text": [
            "+-------------------+--------+------+------------+--------+--------+\n",
            "|           datesold|postcode| price|propertyType|bedrooms|      rn|\n",
            "+-------------------+--------+------+------------+--------+--------+\n",
            "|2007-07-02 00:00:00|    2914|800000|       house|       5|    null|\n",
            "|2008-06-17 00:00:00|    2914|600000|       house|       4|800000.0|\n",
            "|2008-08-29 00:00:00|    2914|465000|       house|       4|600000.0|\n",
            "|2008-09-02 00:00:00|    2914|541000|       house|       4|465000.0|\n",
            "|2008-09-05 00:00:00|    2914|395000|       house|       3|541000.0|\n",
            "+-------------------+--------+------+------------+--------+--------+\n",
            "only showing top 5 rows\n",
            "\n"
          ]
        }
      ]
    },
    {
      "cell_type": "markdown",
      "metadata": {
        "id": "SoKJ_YOBUQGL"
      },
      "source": [
        "## Задание 2\n",
        "Найдите среднюю цену жилья для каждого года и приджойните эти данные к таблице из задания 1. (2 балла)\n",
        "\n",
        "\n",
        "*(left join on a.year(date of sale) = b.year, где a - таблица из первого задания, а b таблица после группировки)*"
      ]
    },
    {
      "cell_type": "code",
      "metadata": {
        "colab": {
          "base_uri": "https://localhost:8080/"
        },
        "id": "4C33Pv7l-sQw",
        "outputId": "54acb05c-d7d3-4541-e069-9910907296b7"
      },
      "source": [
        "from pyspark.sql.functions import *\n",
        "\n",
        "new_df = df.withColumn('Year', year(df['datesold']))\n",
        "new_df.show()"
      ],
      "execution_count": null,
      "outputs": [
        {
          "output_type": "stream",
          "name": "stdout",
          "text": [
            "+-------------------+--------+-------+------------+--------+----+\n",
            "|           datesold|postcode|  price|propertyType|bedrooms|Year|\n",
            "+-------------------+--------+-------+------------+--------+----+\n",
            "|2007-07-08 00:00:00|    2600| 327000|       house|       1|2007|\n",
            "|2007-08-16 00:00:00|    2600| 790000|       house|       4|2007|\n",
            "|2007-12-05 00:00:00|    2600| 825000|       house|       3|2007|\n",
            "|2008-01-21 00:00:00|    2600| 315000|        unit|       1|2008|\n",
            "|2008-04-24 00:00:00|    2600| 292500|       house|       1|2008|\n",
            "|2008-05-30 00:00:00|    2600| 329000|        unit|       2|2008|\n",
            "|2008-06-19 00:00:00|    2600| 765000|       house|       5|2008|\n",
            "|2008-07-29 00:00:00|    2600| 927000|       house|       4|2008|\n",
            "|2008-09-02 00:00:00|    2600|1380000|       house|       5|2008|\n",
            "|2008-09-08 00:00:00|    2600| 740000|       house|       3|2008|\n",
            "|2008-09-17 00:00:00|    2600| 720000|       house|       3|2008|\n",
            "|2008-09-22 00:00:00|    2600| 690000|       house|       4|2008|\n",
            "|2008-11-18 00:00:00|    2600| 635000|       house|       3|2008|\n",
            "|2008-11-18 00:00:00|    2600| 950000|       house|       3|2008|\n",
            "|2008-11-21 00:00:00|    2600| 730000|       house|       3|2008|\n",
            "|2008-12-22 00:00:00|    2600| 855000|       house|       3|2008|\n",
            "|2008-12-24 00:00:00|    2600|1057500|       house|       4|2008|\n",
            "|2009-01-06 00:00:00|    2600| 300000|        unit|       2|2009|\n",
            "|2009-01-12 00:00:00|    2600| 475000|        unit|       2|2009|\n",
            "|2009-01-20 00:00:00|    2600|1150000|       house|       4|2009|\n",
            "+-------------------+--------+-------+------------+--------+----+\n",
            "only showing top 20 rows\n",
            "\n"
          ]
        }
      ]
    },
    {
      "cell_type": "code",
      "metadata": {
        "colab": {
          "base_uri": "https://localhost:8080/"
        },
        "id": "Pk5wgT4J_oC2",
        "outputId": "2522c0bb-8f9a-48bb-a3f3-a942630070f2"
      },
      "source": [
        "new_df.groupBy('Year').agg(f.mean('price').alias('Price_average')).orderBy('Year').show()"
      ],
      "execution_count": null,
      "outputs": [
        {
          "output_type": "stream",
          "name": "stdout",
          "text": [
            "+----+-----------------+\n",
            "|Year|    Price_average|\n",
            "+----+-----------------+\n",
            "|2007|522377.2108843537|\n",
            "|2008|493814.1627543036|\n",
            "|2009|496092.0329593268|\n",
            "|2010|559564.8102893891|\n",
            "|2011|566715.1102265768|\n",
            "|2012|552501.3692142088|\n",
            "|2013|553416.2968381312|\n",
            "|2014|  592653.76143905|\n",
            "|2015|626101.3426535088|\n",
            "|2016|635185.3116683726|\n",
            "|2017| 671880.551420392|\n",
            "|2018|660701.0427682737|\n",
            "|2019|634184.2187725632|\n",
            "+----+-----------------+\n",
            "\n"
          ]
        }
      ]
    },
    {
      "cell_type": "markdown",
      "metadata": {
        "id": "wNwRFvwQEyED"
      },
      "source": [
        "(left join on a.year(date of sale) = b.year, где a - таблица из первого задания, а b таблица после группировки)"
      ]
    },
    {
      "cell_type": "code",
      "metadata": {
        "colab": {
          "base_uri": "https://localhost:8080/"
        },
        "id": "8VcdLdBsEuJ3",
        "outputId": "620c2f02-172b-4095-cdd0-371bddace28c"
      },
      "source": [
        "df_left = df.join(new_df, on=['datesold', 'price'], how='left')\n",
        "df_left.show()"
      ],
      "execution_count": null,
      "outputs": [
        {
          "output_type": "stream",
          "name": "stdout",
          "text": [
            "+-------------------+-------+--------+------------+--------+--------+------------+--------+----+\n",
            "|           datesold|  price|postcode|propertyType|bedrooms|postcode|propertyType|bedrooms|Year|\n",
            "+-------------------+-------+--------+------------+--------+--------+------------+--------+----+\n",
            "|2007-07-08 00:00:00| 327000|    2600|       house|       1|    2600|       house|       1|2007|\n",
            "|2007-08-16 00:00:00| 790000|    2600|       house|       4|    2600|       house|       4|2007|\n",
            "|2007-12-05 00:00:00| 825000|    2600|       house|       3|    2600|       house|       3|2007|\n",
            "|2008-01-21 00:00:00| 315000|    2600|        unit|       1|    2600|        unit|       1|2008|\n",
            "|2008-04-24 00:00:00| 292500|    2600|       house|       1|    2600|       house|       1|2008|\n",
            "|2008-05-30 00:00:00| 329000|    2600|        unit|       2|    2600|        unit|       2|2008|\n",
            "|2008-06-19 00:00:00| 765000|    2600|       house|       5|    2600|       house|       5|2008|\n",
            "|2008-07-29 00:00:00| 927000|    2600|       house|       4|    2600|       house|       4|2008|\n",
            "|2008-09-02 00:00:00|1380000|    2600|       house|       5|    2600|       house|       5|2008|\n",
            "|2008-09-08 00:00:00| 740000|    2600|       house|       3|    2600|       house|       3|2008|\n",
            "|2008-09-17 00:00:00| 720000|    2600|       house|       3|    2614|       house|       5|2008|\n",
            "|2008-09-17 00:00:00| 720000|    2600|       house|       3|    2600|       house|       3|2008|\n",
            "|2008-09-22 00:00:00| 690000|    2600|       house|       4|    2600|       house|       4|2008|\n",
            "|2008-11-18 00:00:00| 635000|    2600|       house|       3|    2600|       house|       3|2008|\n",
            "|2008-11-18 00:00:00| 950000|    2600|       house|       3|    2600|       house|       3|2008|\n",
            "|2008-11-21 00:00:00| 730000|    2600|       house|       3|    2600|       house|       3|2008|\n",
            "|2008-12-22 00:00:00| 855000|    2600|       house|       3|    2600|       house|       3|2008|\n",
            "|2008-12-24 00:00:00|1057500|    2600|       house|       4|    2600|       house|       4|2008|\n",
            "|2009-01-06 00:00:00| 300000|    2600|        unit|       2|    2600|        unit|       2|2009|\n",
            "|2009-01-12 00:00:00| 475000|    2600|        unit|       2|    2600|        unit|       2|2009|\n",
            "+-------------------+-------+--------+------------+--------+--------+------------+--------+----+\n",
            "only showing top 20 rows\n",
            "\n"
          ]
        }
      ]
    },
    {
      "cell_type": "code",
      "metadata": {
        "colab": {
          "base_uri": "https://localhost:8080/"
        },
        "id": "moL6MlWbJ1Li",
        "outputId": "08c80852-8b9d-40cb-b87d-ec4f8810a1d3"
      },
      "source": [
        "df.join(df, on=['datesold', 'price'], how='left').show()"
      ],
      "execution_count": null,
      "outputs": [
        {
          "output_type": "stream",
          "name": "stdout",
          "text": [
            "+-------------------+-------+--------+------------+--------+--------+------------+--------+\n",
            "|           datesold|  price|postcode|propertyType|bedrooms|postcode|propertyType|bedrooms|\n",
            "+-------------------+-------+--------+------------+--------+--------+------------+--------+\n",
            "|2007-07-08 00:00:00| 327000|    2600|       house|       1|    2600|       house|       1|\n",
            "|2007-08-16 00:00:00| 790000|    2600|       house|       4|    2600|       house|       4|\n",
            "|2007-12-05 00:00:00| 825000|    2600|       house|       3|    2600|       house|       3|\n",
            "|2008-01-21 00:00:00| 315000|    2600|        unit|       1|    2600|        unit|       1|\n",
            "|2008-04-24 00:00:00| 292500|    2600|       house|       1|    2600|       house|       1|\n",
            "|2008-05-30 00:00:00| 329000|    2600|        unit|       2|    2600|        unit|       2|\n",
            "|2008-06-19 00:00:00| 765000|    2600|       house|       5|    2600|       house|       5|\n",
            "|2008-07-29 00:00:00| 927000|    2600|       house|       4|    2600|       house|       4|\n",
            "|2008-09-02 00:00:00|1380000|    2600|       house|       5|    2600|       house|       5|\n",
            "|2008-09-08 00:00:00| 740000|    2600|       house|       3|    2600|       house|       3|\n",
            "|2008-09-17 00:00:00| 720000|    2600|       house|       3|    2614|       house|       5|\n",
            "|2008-09-17 00:00:00| 720000|    2600|       house|       3|    2600|       house|       3|\n",
            "|2008-09-22 00:00:00| 690000|    2600|       house|       4|    2600|       house|       4|\n",
            "|2008-11-18 00:00:00| 635000|    2600|       house|       3|    2600|       house|       3|\n",
            "|2008-11-18 00:00:00| 950000|    2600|       house|       3|    2600|       house|       3|\n",
            "|2008-11-21 00:00:00| 730000|    2600|       house|       3|    2600|       house|       3|\n",
            "|2008-12-22 00:00:00| 855000|    2600|       house|       3|    2600|       house|       3|\n",
            "|2008-12-24 00:00:00|1057500|    2600|       house|       4|    2600|       house|       4|\n",
            "|2009-01-06 00:00:00| 300000|    2600|        unit|       2|    2600|        unit|       2|\n",
            "|2009-01-12 00:00:00| 475000|    2600|        unit|       2|    2600|        unit|       2|\n",
            "+-------------------+-------+--------+------------+--------+--------+------------+--------+\n",
            "only showing top 20 rows\n",
            "\n"
          ]
        }
      ]
    },
    {
      "cell_type": "markdown",
      "metadata": {
        "id": "Qvh2x6_8YU3F"
      },
      "source": [
        "## Задание 3\n",
        "В итоге у вас таблица с колонками (или нечто похожее):\n",
        "*   price\n",
        "*   Среднегодовая цена\n",
        "*  Средняя стомость 10 проданных домов до текущего в том же районе (4digit postcode) (1 балл)\n",
        "*  Средняя стомость 10 проданных домов после текущего в том же районе (4digit postcode) (1 балл)\n",
        "*  Стоимость последнего проданного дома до текущего ((1 балл)\n",
        "*  и др.\n",
        "\n",
        "Посчитайте кол-во уникальных значений в каждой строчке (unique(row)). (2 балла)"
      ]
    },
    {
      "cell_type": "code",
      "metadata": {
        "id": "T-nHiiCpliDG"
      },
      "source": [
        "df.drop_duplicates()\n",
        "df.drop_duplicates(keep='last')\n",
        "pandas.dataframe.column-name.unique()\n"
      ],
      "execution_count": null,
      "outputs": []
    }
  ]
}