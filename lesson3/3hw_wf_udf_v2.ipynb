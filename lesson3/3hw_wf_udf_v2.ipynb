{
  "nbformat": 4,
  "nbformat_minor": 0,
  "metadata": {
    "colab": {
      "name": "3hw_wf_udf_v2.ipynb",
      "provenance": [],
      "collapsed_sections": []
    },
    "kernelspec": {
      "name": "python3",
      "display_name": "Python 3"
    },
    "language_info": {
      "name": "python"
    }
  },
  "cells": [
    {
      "cell_type": "code",
      "metadata": {
        "colab": {
          "base_uri": "https://localhost:8080/"
        },
        "id": "W5AsCKO5Nqsh",
        "outputId": "6815d495-791f-40f4-ceda-dc97793b7e0a"
      },
      "source": [
        "!pip install pyspark"
      ],
      "execution_count": 1,
      "outputs": [
        {
          "output_type": "stream",
          "name": "stdout",
          "text": [
            "Collecting pyspark\n",
            "  Downloading pyspark-3.2.1.tar.gz (281.4 MB)\n",
            "\u001b[K     |████████████████████████████████| 281.4 MB 33 kB/s \n",
            "\u001b[?25hCollecting py4j==0.10.9.3\n",
            "  Downloading py4j-0.10.9.3-py2.py3-none-any.whl (198 kB)\n",
            "\u001b[K     |████████████████████████████████| 198 kB 60.5 MB/s \n",
            "\u001b[?25hBuilding wheels for collected packages: pyspark\n",
            "  Building wheel for pyspark (setup.py) ... \u001b[?25l\u001b[?25hdone\n",
            "  Created wheel for pyspark: filename=pyspark-3.2.1-py2.py3-none-any.whl size=281853642 sha256=e190c33c2d6a4c351964828fad89adfbbe735090f6955fc0d5d11cca6570f1c1\n",
            "  Stored in directory: /root/.cache/pip/wheels/9f/f5/07/7cd8017084dce4e93e84e92efd1e1d5334db05f2e83bcef74f\n",
            "Successfully built pyspark\n",
            "Installing collected packages: py4j, pyspark\n",
            "Successfully installed py4j-0.10.9.3 pyspark-3.2.1\n"
          ]
        }
      ]
    },
    {
      "cell_type": "code",
      "metadata": {
        "id": "E3Q9g_UyNxS6"
      },
      "source": [
        "from pyspark.sql import SparkSession\n",
        "\n",
        "spark = SparkSession.builder\\\n",
        "        .master('local[4]')\\\n",
        "        .appName('Lesson_3')\\\n",
        "        .config('spark.ui.port', '4050')\\\n",
        "        .config('spark.executor.instances', 2)\\\n",
        "        .config('spark.executor.memory', '5g')\\\n",
        "        .config('spark.executor.cores', 2)\\\n",
        "        .getOrCreate()\n",
        "sc = spark.sparkContext"
      ],
      "execution_count": 2,
      "outputs": []
    },
    {
      "cell_type": "markdown",
      "metadata": {
        "id": "dVGNGR7pN1KC"
      },
      "source": [
        "## Самостоятельная работа к уроку 3"
      ]
    },
    {
      "cell_type": "markdown",
      "metadata": {
        "id": "agigNChqOHnK"
      },
      "source": [
        "## Данные: [google drive: raw_sales.csv](https://drive.google.com/file/d/1G2N7Mnt4-Tqz4JdJxutGDMbJiOr32kZp/view?usp=sharing)\n",
        "\n",
        " Каждая строчка это продажа жилья, которая состоит из следующих полей:\n",
        "*   date of sale\n",
        "*   price\n",
        "*   property type\n",
        "*   number of bedrooms\n",
        "*   4digit postcode"
      ]
    },
    {
      "cell_type": "code",
      "metadata": {
        "id": "hfS-oF0mj6K6"
      },
      "source": [
        "from pyspark.sql import functions as F\n",
        "from pyspark.sql.types import *\n",
        "\n",
        "data = spark.read.csv('raw_sales.csv', header=True, inferSchema=True)"
      ],
      "execution_count": 3,
      "outputs": []
    },
    {
      "cell_type": "code",
      "source": [
        "data.show(5)"
      ],
      "metadata": {
        "colab": {
          "base_uri": "https://localhost:8080/"
        },
        "id": "r4w3AvBxncel",
        "outputId": "7ac91a5f-0189-436a-be58-f15bdc29e68c"
      },
      "execution_count": 4,
      "outputs": [
        {
          "output_type": "stream",
          "name": "stdout",
          "text": [
            "+-------------------+--------+------+------------+--------+\n",
            "|           datesold|postcode| price|propertyType|bedrooms|\n",
            "+-------------------+--------+------+------------+--------+\n",
            "|2007-07-08 00:00:00|    2600|327000|       house|       1|\n",
            "|2007-08-16 00:00:00|    2600|790000|       house|       4|\n",
            "|2007-12-05 00:00:00|    2600|825000|       house|       3|\n",
            "|2008-01-21 00:00:00|    2600|315000|        unit|       1|\n",
            "|2008-04-24 00:00:00|    2600|292500|       house|       1|\n",
            "+-------------------+--------+------+------------+--------+\n",
            "only showing top 5 rows\n",
            "\n"
          ]
        }
      ]
    },
    {
      "cell_type": "markdown",
      "metadata": {
        "id": "1yg3VFtmBRb3"
      },
      "source": [
        "### Задание 1\n",
        "Добавим к таблице следующие поля:\n",
        "\n",
        "- Средняя стомость 10 проданных домов до текущего в том же районе (4digit postcode)\n",
        "- Средняя стомость 10 проданных домов после текущего в том же районе (4digit postcode)\n",
        "- Стоимость последнего проданного дома до текущего"
      ]
    },
    {
      "cell_type": "code",
      "source": [
        "from pyspark.sql.window import Window\n",
        "\n",
        "windSpec = Window.partitionBy('postcode').orderBy('datesold')\\\n",
        "\n",
        "list_1 = data.withColumn('up_to_current', F.avg('price').over(windSpec.rowsBetween(-10, Window.currentRow - 1)))\\\n",
        "    .withColumn('after_current', F.avg('price').over(windSpec.rowsBetween(Window.currentRow, 9)))\\\n",
        "    .withColumn('last_sold', F.last('price').over(windSpec.rowsBetween(-1, -1)))"
      ],
      "metadata": {
        "id": "3D4dDfwnT-n8"
      },
      "execution_count": 5,
      "outputs": []
    },
    {
      "cell_type": "code",
      "source": [
        "list_1.show(11)"
      ],
      "metadata": {
        "colab": {
          "base_uri": "https://localhost:8080/"
        },
        "id": "B9AtYugOax3k",
        "outputId": "1de8c549-9cb4-4ab8-a049-75e7a97ac45f"
      },
      "execution_count": 6,
      "outputs": [
        {
          "output_type": "stream",
          "name": "stdout",
          "text": [
            "+-------------------+--------+-------+------------+--------+-----------------+-------------+---------+\n",
            "|           datesold|postcode|  price|propertyType|bedrooms|    up_to_current|after_current|last_sold|\n",
            "+-------------------+--------+-------+------------+--------+-----------------+-------------+---------+\n",
            "|2007-07-08 00:00:00|    2600| 327000|       house|       1|             null|     669050.0|     null|\n",
            "|2007-08-16 00:00:00|    2600| 790000|       house|       4|         327000.0|     708350.0|   327000|\n",
            "|2007-12-05 00:00:00|    2600| 825000|       house|       3|         558500.0|     698350.0|   790000|\n",
            "|2008-01-21 00:00:00|    2600| 315000|        unit|       1|647333.3333333334|     679350.0|   825000|\n",
            "|2008-04-24 00:00:00|    2600| 292500|       house|       1|         564250.0|     742850.0|   315000|\n",
            "|2008-05-30 00:00:00|    2600| 329000|        unit|       2|         509900.0|     786600.0|   292500|\n",
            "|2008-06-19 00:00:00|    2600| 765000|       house|       5|         479750.0|     839200.0|   329000|\n",
            "|2008-07-29 00:00:00|    2600| 927000|       house|       4|         520500.0|     868450.0|   765000|\n",
            "|2008-09-02 00:00:00|    2600|1380000|       house|       5|         571312.5|     805750.0|   927000|\n",
            "|2008-09-08 00:00:00|    2600| 740000|       house|       3|661166.6666666666|     715250.0|  1380000|\n",
            "|2008-09-17 00:00:00|    2600| 720000|       house|       3|         669050.0|     756250.0|   740000|\n",
            "+-------------------+--------+-------+------------+--------+-----------------+-------------+---------+\n",
            "only showing top 11 rows\n",
            "\n"
          ]
        }
      ]
    },
    {
      "cell_type": "code",
      "source": [
        "windSpec = Window.partitionBy('postcode').orderBy('datesold')\\\n",
        "\n",
        "\n",
        "table_1 = data.withColumn('up_to_current', F.avg('price').over(windSpec.rowsBetween(-10, Window.currentRow - 1)))\\\n",
        "    .withColumn('after_current', F.avg('price').over(windSpec.rowsBetween(Window.currentRow, 9)))\\\n",
        "    .withColumn('last_sold', F.last('price').over(windSpec.rowsBetween(-1, -1)))"
      ],
      "metadata": {
        "id": "i6j3D5wEbECE"
      },
      "execution_count": 21,
      "outputs": []
    },
    {
      "cell_type": "markdown",
      "metadata": {
        "id": "SoKJ_YOBUQGL"
      },
      "source": [
        "## Задание 2"
      ]
    },
    {
      "cell_type": "code",
      "metadata": {
        "id": "4C33Pv7l-sQw"
      },
      "source": [
        "# Найдем среднюю цену жилья для каждого года\n",
        "list_2 = data.withColumn('year', F.year('datesold')).groupBy('year').agg(F.avg('price').alias('avg_price_year'))"
      ],
      "execution_count": 7,
      "outputs": []
    },
    {
      "cell_type": "code",
      "metadata": {
        "id": "8VcdLdBsEuJ3"
      },
      "source": [
        "# Приджойним эти данные к таблице из задания 1\n",
        "result = list_1.join(list_2, on = [F.year(list_1.datesold) == (list_2.year)], how = 'left')"
      ],
      "execution_count": 11,
      "outputs": []
    },
    {
      "cell_type": "code",
      "metadata": {
        "colab": {
          "base_uri": "https://localhost:8080/"
        },
        "id": "moL6MlWbJ1Li",
        "outputId": "8a6f014f-02f7-4c12-8efa-ff77dd0b2f30"
      },
      "source": [
        "result.show(30)"
      ],
      "execution_count": 12,
      "outputs": [
        {
          "output_type": "stream",
          "name": "stdout",
          "text": [
            "+-------------------+--------+-------+------------+--------+-----------------+-------------+---------+----+-----------------+\n",
            "|           datesold|postcode|  price|propertyType|bedrooms|    up_to_current|after_current|last_sold|year|   avg_price_year|\n",
            "+-------------------+--------+-------+------------+--------+-----------------+-------------+---------+----+-----------------+\n",
            "|2007-07-08 00:00:00|    2600| 327000|       house|       1|             null|     669050.0|     null|2007|522377.2108843537|\n",
            "|2007-08-16 00:00:00|    2600| 790000|       house|       4|         327000.0|     708350.0|   327000|2007|522377.2108843537|\n",
            "|2007-12-05 00:00:00|    2600| 825000|       house|       3|         558500.0|     698350.0|   790000|2007|522377.2108843537|\n",
            "|2008-01-21 00:00:00|    2600| 315000|        unit|       1|647333.3333333334|     679350.0|   825000|2008|493814.1627543036|\n",
            "|2008-04-24 00:00:00|    2600| 292500|       house|       1|         564250.0|     742850.0|   315000|2008|493814.1627543036|\n",
            "|2008-05-30 00:00:00|    2600| 329000|        unit|       2|         509900.0|     786600.0|   292500|2008|493814.1627543036|\n",
            "|2008-06-19 00:00:00|    2600| 765000|       house|       5|         479750.0|     839200.0|   329000|2008|493814.1627543036|\n",
            "|2008-07-29 00:00:00|    2600| 927000|       house|       4|         520500.0|     868450.0|   765000|2008|493814.1627543036|\n",
            "|2008-09-02 00:00:00|    2600|1380000|       house|       5|         571312.5|     805750.0|   927000|2008|493814.1627543036|\n",
            "|2008-09-08 00:00:00|    2600| 740000|       house|       3|661166.6666666666|     715250.0|  1380000|2008|493814.1627543036|\n",
            "|2008-09-17 00:00:00|    2600| 720000|       house|       3|         669050.0|     756250.0|   740000|2008|493814.1627543036|\n",
            "|2008-09-22 00:00:00|    2600| 690000|       house|       4|         708350.0|     741750.0|   720000|2008|493814.1627543036|\n",
            "|2008-11-18 00:00:00|    2600| 635000|       house|       3|         698350.0|     730550.0|   690000|2008|493814.1627543036|\n",
            "|2008-11-18 00:00:00|    2600| 950000|       house|       3|         679350.0|     755050.0|   635000|2008|493814.1627543036|\n",
            "|2008-11-21 00:00:00|    2600| 730000|       house|       3|         742850.0|     701050.0|   950000|2008|493814.1627543036|\n",
            "|2008-12-22 00:00:00|    2600| 855000|       house|       3|         786600.0|     729550.0|   730000|2008|493814.1627543036|\n",
            "|2008-12-24 00:00:00|    2600|1057500|       house|       4|         839200.0|     716250.0|   855000|2008|493814.1627543036|\n",
            "|2009-01-06 00:00:00|    2600| 300000|        unit|       2|         868450.0|     641500.0|  1057500|2009|496092.0329593268|\n",
            "|2009-01-12 00:00:00|    2600| 475000|        unit|       2|         805750.0|     672500.0|   300000|2009|496092.0329593268|\n",
            "|2009-01-20 00:00:00|    2600|1150000|       house|       4|         715250.0|     689000.0|   475000|2009|496092.0329593268|\n",
            "|2009-01-22 00:00:00|    2600| 575000|       house|       3|         756250.0|     641500.0|  1150000|2009|496092.0329593268|\n",
            "|2009-02-03 00:00:00|    2600| 578000|        unit|       2|         741750.0|     684000.0|   575000|2009|496092.0329593268|\n",
            "|2009-02-13 00:00:00|    2600| 880000|       house|       4|         730550.0|     663700.0|   578000|2009|496092.0329593268|\n",
            "|2009-02-27 00:00:00|    2600| 410000|        unit|       1|         755050.0|     690700.0|   880000|2009|496092.0329593268|\n",
            "|2009-03-17 00:00:00|    2600|1015000|       house|       4|         701050.0|     725700.0|   410000|2009|496092.0329593268|\n",
            "|2009-03-28 00:00:00|    2600| 722000|       house|       4|         729550.0|     735200.0|  1015000|2009|496092.0329593268|\n",
            "|2009-03-30 00:00:00|    2600| 310000|        unit|       1|         716250.0|     744000.0|   722000|2009|496092.0329593268|\n",
            "|2009-03-31 00:00:00|    2600| 610000|       house|       3|         641500.0|     803000.0|   310000|2009|496092.0329593268|\n",
            "|2009-04-16 00:00:00|    2600| 640000|        unit|       2|         672500.0|     823200.0|   610000|2009|496092.0329593268|\n",
            "|2009-05-08 00:00:00|    2600| 675000|       house|       3|         689000.0|     855200.0|   640000|2009|496092.0329593268|\n",
            "+-------------------+--------+-------+------------+--------+-----------------+-------------+---------+----+-----------------+\n",
            "only showing top 30 rows\n",
            "\n"
          ]
        }
      ]
    },
    {
      "cell_type": "markdown",
      "metadata": {
        "id": "Qvh2x6_8YU3F"
      },
      "source": [
        "## Задание 3\n",
        "В итоге у нас таблица с колонками:\n",
        "*   price\n",
        "*   Среднегодовая цена\n",
        "*  Средняя стомость 10 проданных домов до текущего в том же районе (4digit postcode)\n",
        "*  Средняя стомость 10 проданных домов после текущего в том же районе (4digit postcode)\n",
        "*  Стоимость последнего проданного дома до текущего\n",
        "\n",
        "Посчитаем кол-во уникальных значений в каждой строчке (unique(row))."
      ]
    },
    {
      "cell_type": "code",
      "source": [
        "@F.udf(returnType=IntegerType())\n",
        "def get_unique(value):\n",
        "  return len(set(value))\n",
        "\n",
        "result.withColumn('unique_el', get_unique(F.array(result.columns))).show(10)"
      ],
      "metadata": {
        "id": "4xMDZ33WIYD7",
        "colab": {
          "base_uri": "https://localhost:8080/"
        },
        "outputId": "ddca5876-1d59-4a21-802d-fc15b2d0d264"
      },
      "execution_count": 10,
      "outputs": [
        {
          "output_type": "stream",
          "name": "stdout",
          "text": [
            "+-------------------+--------+-------+------------+--------+-----------------+-------------+---------+----+-----------------+---------+\n",
            "|           datesold|postcode|  price|propertyType|bedrooms|    up_to_current|after_current|last_sold|year|   avg_price_year|unique_el|\n",
            "+-------------------+--------+-------+------------+--------+-----------------+-------------+---------+----+-----------------+---------+\n",
            "|2007-07-08 00:00:00|    2600| 327000|       house|       1|             null|     669050.0|     null|2007|522377.2108843537|        9|\n",
            "|2007-08-16 00:00:00|    2600| 790000|       house|       4|         327000.0|     708350.0|   327000|2007|522377.2108843537|       10|\n",
            "|2007-12-05 00:00:00|    2600| 825000|       house|       3|         558500.0|     698350.0|   790000|2007|522377.2108843537|       10|\n",
            "|2008-01-21 00:00:00|    2600| 315000|        unit|       1|647333.3333333334|     679350.0|   825000|2008|493814.1627543036|       10|\n",
            "|2008-04-24 00:00:00|    2600| 292500|       house|       1|         564250.0|     742850.0|   315000|2008|493814.1627543036|       10|\n",
            "|2008-05-30 00:00:00|    2600| 329000|        unit|       2|         509900.0|     786600.0|   292500|2008|493814.1627543036|       10|\n",
            "|2008-06-19 00:00:00|    2600| 765000|       house|       5|         479750.0|     839200.0|   329000|2008|493814.1627543036|       10|\n",
            "|2008-07-29 00:00:00|    2600| 927000|       house|       4|         520500.0|     868450.0|   765000|2008|493814.1627543036|       10|\n",
            "|2008-09-02 00:00:00|    2600|1380000|       house|       5|         571312.5|     805750.0|   927000|2008|493814.1627543036|       10|\n",
            "|2008-09-08 00:00:00|    2600| 740000|       house|       3|661166.6666666666|     715250.0|  1380000|2008|493814.1627543036|       10|\n",
            "+-------------------+--------+-------+------------+--------+-----------------+-------------+---------+----+-----------------+---------+\n",
            "only showing top 10 rows\n",
            "\n"
          ]
        }
      ]
    },
    {
      "cell_type": "code",
      "source": [
        "spark.stop()"
      ],
      "metadata": {
        "id": "i4yUBleyuhZO"
      },
      "execution_count": 13,
      "outputs": []
    }
  ]
}