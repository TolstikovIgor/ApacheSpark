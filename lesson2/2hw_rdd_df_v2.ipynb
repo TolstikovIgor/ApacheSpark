{
  "nbformat": 4,
  "nbformat_minor": 0,
  "metadata": {
    "colab": {
      "name": "Dz_2.1 HW rdd df.ipynb",
      "provenance": [],
      "collapsed_sections": []
    },
    "kernelspec": {
      "name": "python3",
      "display_name": "Python 3"
    },
    "language_info": {
      "name": "python"
    }
  },
  "cells": [
    {
      "cell_type": "code",
      "metadata": {
        "colab": {
          "base_uri": "https://localhost:8080/"
        },
        "id": "cWdhaL9OXE0C",
        "outputId": "f5366550-06b8-4169-98ba-2371579de7ac"
      },
      "source": [
        "!pip install pyspark"
      ],
      "execution_count": 1,
      "outputs": [
        {
          "output_type": "stream",
          "name": "stdout",
          "text": [
            "Collecting pyspark\n",
            "  Downloading pyspark-3.2.1.tar.gz (281.4 MB)\n",
            "\u001b[K     |████████████████████████████████| 281.4 MB 34 kB/s \n",
            "\u001b[?25hCollecting py4j==0.10.9.3\n",
            "  Downloading py4j-0.10.9.3-py2.py3-none-any.whl (198 kB)\n",
            "\u001b[K     |████████████████████████████████| 198 kB 47.2 MB/s \n",
            "\u001b[?25hBuilding wheels for collected packages: pyspark\n",
            "  Building wheel for pyspark (setup.py) ... \u001b[?25l\u001b[?25hdone\n",
            "  Created wheel for pyspark: filename=pyspark-3.2.1-py2.py3-none-any.whl size=281853642 sha256=84bfeba00a0eff0095119ab6c1a0ad319b5932e34756131415c74c50997f8dbe\n",
            "  Stored in directory: /root/.cache/pip/wheels/9f/f5/07/7cd8017084dce4e93e84e92efd1e1d5334db05f2e83bcef74f\n",
            "Successfully built pyspark\n",
            "Installing collected packages: py4j, pyspark\n",
            "Successfully installed py4j-0.10.9.3 pyspark-3.2.1\n"
          ]
        }
      ]
    },
    {
      "cell_type": "markdown",
      "metadata": {
        "id": "8Zc4sdy0s35D"
      },
      "source": [
        "## Создаём точку входа в Spark"
      ]
    },
    {
      "cell_type": "code",
      "metadata": {
        "id": "idrMQH4dj605"
      },
      "source": [
        "from pyspark.sql import SparkSession\n",
        "\n",
        "spark = SparkSession.builder\\\n",
        "        .master('local[4]')\\\n",
        "        .appName('Lesson_2')\\\n",
        "        .config('spark.ui.port', '4050')\\\n",
        "        .config('spark.executor.instances', 2)\\\n",
        "        .config('spark.executor.memory', '5g')\\\n",
        "        .config('spark.executor.cores', 2)\\\n",
        "        .getOrCreate()\n",
        "\n",
        "sc = spark.sparkContext"
      ],
      "execution_count": 2,
      "outputs": []
    },
    {
      "cell_type": "code",
      "metadata": {
        "colab": {
          "base_uri": "https://localhost:8080/",
          "height": 219
        },
        "id": "ZfhfV3EWHzqB",
        "outputId": "e6653bb5-6d62-4f8f-a59c-5e0d51415c87"
      },
      "source": [
        "spark"
      ],
      "execution_count": 3,
      "outputs": [
        {
          "output_type": "execute_result",
          "data": {
            "text/plain": [
              "<pyspark.sql.session.SparkSession at 0x7fa0b6f8eed0>"
            ],
            "text/html": [
              "\n",
              "            <div>\n",
              "                <p><b>SparkSession - in-memory</b></p>\n",
              "                \n",
              "        <div>\n",
              "            <p><b>SparkContext</b></p>\n",
              "\n",
              "            <p><a href=\"http://d643e2ed10ef:4050\">Spark UI</a></p>\n",
              "\n",
              "            <dl>\n",
              "              <dt>Version</dt>\n",
              "                <dd><code>v3.2.1</code></dd>\n",
              "              <dt>Master</dt>\n",
              "                <dd><code>local[4]</code></dd>\n",
              "              <dt>AppName</dt>\n",
              "                <dd><code>Lesson_2</code></dd>\n",
              "            </dl>\n",
              "        </div>\n",
              "        \n",
              "            </div>\n",
              "        "
            ]
          },
          "metadata": {},
          "execution_count": 3
        }
      ]
    },
    {
      "cell_type": "markdown",
      "metadata": {
        "id": "VrBE3PdXtOwT"
      },
      "source": [
        "# Самостоятельная работа\n",
        "\n",
        "Требуется выяснить:\n",
        "1. Какое соотношение сторон экрана телефона самое популярное,\n",
        "2. Плотность пикселей у экрана.\n",
        "\n",
        "Можно использовать только rdd."
      ]
    },
    {
      "cell_type": "markdown",
      "metadata": {
        "id": "FjAfrNtXSKBz"
      },
      "source": [
        "## Считывание данных\n",
        "Скачиваем и копируем в папку с нотебуком\n",
        "https://www.kaggle.com/iabhishekofficial/mobile-price-classification\n",
        "\n",
        "Внутри содержится следующая информация:\n",
        "\n",
        "* id: ID\n",
        "* battery_power: Общая энергия, которую батарея может накопить за один раз (мАч)\n",
        "* blue: Поддержка Bluetooth или нет\n",
        "* clock_speed: Скорость, с которой микропроцессор выполняет инструкции\n",
        "* dual_sim: Поддержка двух sim-карт или нет\n",
        "* fc: Мегапиксели фронтальной камеры\n",
        "* four_g: Поддержка 4G или нет\n",
        "* int_memory: Внутренняя память (ГБ)\n",
        "* m_dep: Подвижная глубина (см)\n",
        "* mobile_wt: Вес мобильного телефона\n",
        "* n_cores: Количество ядер процессора\n",
        "* pc: Мегапиксели основной камеры\n",
        "* px_height: Высота Разрешения в Пикселях\n",
        "* px_width: Ширина Разрешения в Пикселях\n",
        "* ram: Оперативная память (МБ)\n",
        "* sc_h: Высота экрана мобильного устройства (см)\n",
        "* sc_w: Ширина экрана мобильного устройства (см)\n",
        "* talk_time: Время разговора на одном заряде батареи\n",
        "* three_g: Поддержка 3G или нет\n",
        "* touch_screen: Есть сенсорный экран или нет\n",
        "* wifi: Поддержка Wi-Fi или нет"
      ]
    },
    {
      "cell_type": "code",
      "metadata": {
        "id": "3VyKjYOSkLlp"
      },
      "source": [
        "train = sc.textFile('/content/train.csv')\n",
        "test = sc.textFile('/content/test.csv')"
      ],
      "execution_count": 4,
      "outputs": []
    },
    {
      "cell_type": "code",
      "metadata": {
        "id": "E9Vb0d0hutEb",
        "colab": {
          "base_uri": "https://localhost:8080/"
        },
        "outputId": "add53221-3e44-4ca6-f250-e9a7e554f43b"
      },
      "source": [
        "# Вывести содержимое каждого файла (часть строк)\n",
        "train.take(2)"
      ],
      "execution_count": 5,
      "outputs": [
        {
          "output_type": "execute_result",
          "data": {
            "text/plain": [
              "['battery_power,blue,clock_speed,dual_sim,fc,four_g,int_memory,m_dep,mobile_wt,n_cores,pc,px_height,px_width,ram,sc_h,sc_w,talk_time,three_g,touch_screen,wifi,price_range',\n",
              " '769,1,2.9,1,0,0,9,0.1,182,5,1,248,874,3946,5,0,7,0,0,0,3']"
            ]
          },
          "metadata": {},
          "execution_count": 5
        }
      ]
    },
    {
      "cell_type": "code",
      "metadata": {
        "colab": {
          "base_uri": "https://localhost:8080/"
        },
        "id": "SlbmMg9gt8s5",
        "outputId": "e8c49d57-2d6a-4c2a-9d67-1ff5319d3368"
      },
      "source": [
        "test.take(2)"
      ],
      "execution_count": 6,
      "outputs": [
        {
          "output_type": "execute_result",
          "data": {
            "text/plain": [
              "['id,battery_power,blue,clock_speed,dual_sim,fc,four_g,int_memory,m_dep,mobile_wt,n_cores,pc,px_height,px_width,ram,sc_h,sc_w,talk_time,three_g,touch_screen,wifi',\n",
              " '1,1043,1,1.8,1,14,0,5,0.1,193,3,16,226,1412,3476,12,7,2,0,1,0']"
            ]
          },
          "metadata": {},
          "execution_count": 6
        }
      ]
    },
    {
      "cell_type": "markdown",
      "metadata": {
        "id": "5pNi9czovHNh"
      },
      "source": [
        "##  Преобразуем train и test"
      ]
    },
    {
      "cell_type": "code",
      "metadata": {
        "id": "8PzsLhWdvCY_"
      },
      "source": [
        "# Преобразуем train\n",
        "train_first_row = train.first()\n",
        "\n",
        "train = train\\\n",
        "    .filter(lambda row: row != train_first_row)\\\n",
        "    .map(lambda row: [float(el) for el in row.split(',')[:-1]])"
      ],
      "execution_count": 7,
      "outputs": []
    },
    {
      "cell_type": "code",
      "metadata": {
        "id": "QKCMFiVenNia"
      },
      "source": [
        "# Преобразуем test\n",
        "test_first_row = test.first()\n",
        "\n",
        "test = test\\\n",
        "    .filter(lambda row: row != test_first_row)\\\n",
        "    .map(lambda row: [float(el) for el in row.split(',')[1:]])"
      ],
      "execution_count": 8,
      "outputs": []
    },
    {
      "cell_type": "markdown",
      "metadata": {
        "id": "kjCdeAS4v1Vc"
      },
      "source": [
        "## Объединим train и test"
      ]
    },
    {
      "cell_type": "code",
      "source": [
        "data = train.union(test)\n",
        "data_first_row = train_first_row.split(',')"
      ],
      "metadata": {
        "id": "1vJkUaSVwakr"
      },
      "execution_count": 9,
      "outputs": []
    },
    {
      "cell_type": "code",
      "source": [
        "data.take(1)"
      ],
      "metadata": {
        "id": "aoY9bPfynWaf"
      },
      "execution_count": null,
      "outputs": []
    },
    {
      "cell_type": "code",
      "metadata": {
        "id": "5-Oeq54KxhXa"
      },
      "source": [
        "# Объединим train и test\n",
        "#import pandas as pd\n",
        "#data = pd.concat(map(pd.read_csv, ['train.csv', 'test.csv']))"
      ],
      "execution_count": null,
      "outputs": []
    },
    {
      "cell_type": "markdown",
      "metadata": {
        "id": "GxGGHqRyx7XG"
      },
      "source": [
        "## Рассчитайте соотношение сторон телефона и экрана"
      ]
    },
    {
      "cell_type": "code",
      "metadata": {
        "id": "HckZvR72xs7W",
        "colab": {
          "base_uri": "https://localhost:8080/"
        },
        "outputId": "c4df3cb7-b6b8-4e70-8ef4-816d57f40b52"
      },
      "source": [
        "# Выведите самое популярное распределение соотношений сторон экрана\n",
        "# в разрезе широкоформатные или нет (экран широкоформатный, если соотногшение >=16:9)\n",
        "col_height = data_first_row.index('px_height')\n",
        "col_width = data_first_row.index('px_width')\n",
        "data.map(lambda row: (row[col_width], row[col_height])).filter(lambda row: row[1]!=0)\\\n",
        ".map(lambda row: (('>= 16:9' if row[0]/row[1] >= 1.77 else '< 16:9' ), 1)).reduceByKey(lambda x, y: x + y).sortByKey().collect()"
      ],
      "execution_count": 54,
      "outputs": [
        {
          "output_type": "execute_result",
          "data": {
            "text/plain": [
              "[('< 16:9', 1353), ('>= 16:9', 1643)]"
            ]
          },
          "metadata": {},
          "execution_count": 54
        }
      ]
    },
    {
      "cell_type": "code",
      "source": [
        "# Выведите самые популярные распределение плотности пикселей (точек на дюйм)\n",
        "import math\n",
        "col_sc_h = data_first_row.index('sc_h')\n",
        "col_sc_w = data_first_row.index('sc_w')\n",
        "data\\\n",
        ".map(lambda row: (round((math.sqrt(row[col_width]**2 + row[col_height]**2))/(math.sqrt(row[col_sc_h]**2 + row[col_sc_w]**2))),1))\\\n",
        ".reduceByKey(lambda x, y: x + y).map(lambda x: (x[1], x[0])).sortByKey(False).take(10)"
      ],
      "metadata": {
        "colab": {
          "base_uri": "https://localhost:8080/"
        },
        "id": "AcURcjw-Owty",
        "outputId": "d46876fd-50a4-4d6f-d95c-06777ad5cea6"
      },
      "execution_count": 55,
      "outputs": [
        {
          "output_type": "execute_result",
          "data": {
            "text/plain": [
              "[(35, 82),\n",
              " (34, 54),\n",
              " (31, 78),\n",
              " (28, 84),\n",
              " (28, 71),\n",
              " (28, 79),\n",
              " (27, 81),\n",
              " (27, 89),\n",
              " (27, 65),\n",
              " (27, 90)]"
            ]
          },
          "metadata": {},
          "execution_count": 55
        }
      ]
    },
    {
      "cell_type": "markdown",
      "metadata": {
        "id": "PNAGeyOmzEN4"
      },
      "source": [
        "## JOIN"
      ]
    },
    {
      "cell_type": "code",
      "metadata": {
        "id": "kRb1q9QizDiH"
      },
      "source": [
        "# По соотношению сторон\n",
        "train_inner = train.map(lambda row: (round((math.sqrt(row[col_width]**2 + row[col_height]**2) ) / (math.sqrt(row[col_sc_h]**2 + row[col_sc_w]**2))), 1))\n",
        "test_inner = test.map(lambda row: (round((math.sqrt(row[col_width]**2 + row[col_height]**2) ) / (math.sqrt(row[col_sc_h]**2 + row[col_sc_w]**2))), 1))"
      ],
      "execution_count": 65,
      "outputs": []
    },
    {
      "cell_type": "code",
      "source": [
        "train_inner_px = train.map(lambda row: (row[col_width], row[col_height])).filter(lambda row: row[1]!=0).map(lambda row: (('>= 16:9' if row[0]/row[1] >= 1.77 else '< 16:9' ), 1))\n",
        "test_inner_px = test.map(lambda row: (row[col_width], row[col_height])).filter(lambda row: row[1]!=0).map(lambda row: (('>= 16:9' if row[0]/row[1] >= 1.77 else '< 16:9' ), 1))\n",
        "inner_data_px = train_inner_px.cogroup(test_inner_px)\n",
        "inner_data_px.map(lambda row: (row[0], sum([len(el) for el in row[1]]) )).sortByKey(True).collect()"
      ],
      "metadata": {
        "colab": {
          "base_uri": "https://localhost:8080/"
        },
        "id": "1bm-9Asui4JX",
        "outputId": "f5a5c985-777a-4d84-b712-f43cc07b2c50"
      },
      "execution_count": 69,
      "outputs": [
        {
          "output_type": "execute_result",
          "data": {
            "text/plain": [
              "[('< 16:9', 1353), ('>= 16:9', 1643)]"
            ]
          },
          "metadata": {},
          "execution_count": 69
        }
      ]
    },
    {
      "cell_type": "code",
      "source": [
        "# По плотности пикселей\n",
        "inner_data_rate = train_inner.cogroup(test_inner)"
      ],
      "metadata": {
        "id": "crTZvb7VifqA"
      },
      "execution_count": 67,
      "outputs": []
    },
    {
      "cell_type": "code",
      "source": [
        "inner_data_rate.map(lambda row: (row[0], sum([len(el) for el in row[1]]) )).map(lambda x: (x[1], x[0])).sortByKey(False).take(10)"
      ],
      "metadata": {
        "colab": {
          "base_uri": "https://localhost:8080/"
        },
        "id": "M2C3vslHim-q",
        "outputId": "a42b83ac-9c6d-455e-a128-1e0eb22f51da"
      },
      "execution_count": 70,
      "outputs": [
        {
          "output_type": "execute_result",
          "data": {
            "text/plain": [
              "[(35, 82),\n",
              " (34, 54),\n",
              " (31, 78),\n",
              " (28, 84),\n",
              " (28, 71),\n",
              " (28, 79),\n",
              " (27, 81),\n",
              " (27, 89),\n",
              " (27, 65),\n",
              " (27, 90)]"
            ]
          },
          "metadata": {},
          "execution_count": 70
        }
      ]
    },
    {
      "cell_type": "markdown",
      "metadata": {
        "id": "uySWyv8CXIMF"
      },
      "source": [
        "## DataFrame"
      ]
    },
    {
      "cell_type": "code",
      "metadata": {
        "id": "56itAN_AA13M"
      },
      "source": [
        "# Считываем данные\n",
        "df_train = spark.read.csv('train.csv', header=True, inferSchema=True)\n",
        "df_test = spark.read.csv('test.csv', header=True, inferSchema=True)"
      ],
      "execution_count": 77,
      "outputs": []
    },
    {
      "cell_type": "code",
      "metadata": {
        "id": "KMLjZm0IEx3S"
      },
      "source": [
        "# Объединяем\n",
        "data = df_test.unionByName(df_train, allowMissingColumns=True)"
      ],
      "execution_count": 81,
      "outputs": []
    },
    {
      "cell_type": "code",
      "metadata": {
        "id": "biiHt623BeTU"
      },
      "source": [
        "# Создаем колонки с соотношением сторон и плотностью пикселей\n",
        "from pyspark.sql.functions import sqrt, round, col, pow\n",
        "data = data.withColumn('asc_rate', round((col('px_width') / col('px_height')), 2))\\\n",
        ".withColumn('ppi', round((sqrt(pow(data.px_width, 2) + pow(data.px_height,2)) )/(sqrt(pow(data.sc_h, 2) + pow(data.sc_w, 2)))))"
      ],
      "execution_count": 82,
      "outputs": []
    },
    {
      "cell_type": "markdown",
      "metadata": {
        "id": "FtJ2G-Eob6LI"
      },
      "source": [
        "## Сохранение\n"
      ]
    },
    {
      "cell_type": "code",
      "metadata": {
        "id": "sgRM7IV3b6LJ"
      },
      "source": [
        "# Сохраните результат в csv sep=';', encoding='cp1251'\n",
        "# с колонками id, плотность пикселей и временем разговора на одном заряде батареи\n",
        "data_save = data.select('id', 'ppi', 'talk_time')"
      ],
      "execution_count": 84,
      "outputs": []
    },
    {
      "cell_type": "code",
      "metadata": {
        "id": "Mc9uG_y2bxV2"
      },
      "source": [
        "data_save.write.csv('result.csv', sep=';', header=True, encoding='cp1251')"
      ],
      "execution_count": 85,
      "outputs": []
    }
  ]
}