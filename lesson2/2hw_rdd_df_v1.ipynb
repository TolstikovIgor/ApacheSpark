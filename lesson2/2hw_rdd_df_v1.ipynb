{
  "nbformat": 4,
  "nbformat_minor": 0,
  "metadata": {
    "colab": {
      "name": "Dz_2. HW rdd df\"",
      "provenance": [],
      "collapsed_sections": []
    },
    "kernelspec": {
      "name": "python3",
      "display_name": "Python 3"
    },
    "language_info": {
      "name": "python"
    }
  },
  "cells": [
    {
      "cell_type": "code",
      "metadata": {
        "colab": {
          "base_uri": "https://localhost:8080/"
        },
        "id": "cWdhaL9OXE0C",
        "outputId": "082f15f8-f8c3-46cc-8cfc-416b12473432"
      },
      "source": [
        "!pip install pyspark"
      ],
      "execution_count": null,
      "outputs": [
        {
          "output_type": "stream",
          "text": [
            "Collecting pyspark\n",
            "  Downloading pyspark-3.1.2.tar.gz (212.4 MB)\n",
            "\u001b[K     |████████████████████████████████| 212.4 MB 27 kB/s \n",
            "\u001b[?25hCollecting py4j==0.10.9\n",
            "  Downloading py4j-0.10.9-py2.py3-none-any.whl (198 kB)\n",
            "\u001b[K     |████████████████████████████████| 198 kB 34.3 MB/s \n",
            "\u001b[?25hBuilding wheels for collected packages: pyspark\n",
            "  Building wheel for pyspark (setup.py) ... \u001b[?25l\u001b[?25hdone\n",
            "  Created wheel for pyspark: filename=pyspark-3.1.2-py2.py3-none-any.whl size=212880768 sha256=030f2f11e554349eaa2a487968e60d8cd33cd73f748fd4ba037f3db0a8cd6e84\n",
            "  Stored in directory: /root/.cache/pip/wheels/a5/0a/c1/9561f6fecb759579a7d863dcd846daaa95f598744e71b02c77\n",
            "Successfully built pyspark\n",
            "Installing collected packages: py4j, pyspark\n",
            "Successfully installed py4j-0.10.9 pyspark-3.1.2\n"
          ],
          "name": "stdout"
        }
      ]
    },
    {
      "cell_type": "markdown",
      "metadata": {
        "id": "8Zc4sdy0s35D"
      },
      "source": [
        "# Создаём точку входа в Spark"
      ]
    },
    {
      "cell_type": "code",
      "metadata": {
        "id": "idrMQH4dj605"
      },
      "source": [
        "from pyspark.sql import SparkSession\n",
        "\n",
        "spark = SparkSession.builder\\\n",
        "        .master('local[4]')\\\n",
        "        .appName('Lesson_2')\\\n",
        "        .config('spark.ui.port', '4050')\\\n",
        "        .config('spark.executor.instances', 2)\\\n",
        "        .config('spark.executor.memory', '5g')\\\n",
        "        .config('spark.executor.cores', 2)\\\n",
        "        .getOrCreate()\n",
        "\n",
        "sc = spark.sparkContext"
      ],
      "execution_count": null,
      "outputs": []
    },
    {
      "cell_type": "code",
      "metadata": {
        "colab": {
          "base_uri": "https://localhost:8080/",
          "height": 219
        },
        "id": "ZfhfV3EWHzqB",
        "outputId": "19e68dea-f001-44cc-abc7-50e510524cb2"
      },
      "source": [
        "spark"
      ],
      "execution_count": null,
      "outputs": [
        {
          "output_type": "execute_result",
          "data": {
            "text/html": [
              "\n",
              "            <div>\n",
              "                <p><b>SparkSession - in-memory</b></p>\n",
              "                \n",
              "        <div>\n",
              "            <p><b>SparkContext</b></p>\n",
              "\n",
              "            <p><a href=\"http://55c404e51807:4050\">Spark UI</a></p>\n",
              "\n",
              "            <dl>\n",
              "              <dt>Version</dt>\n",
              "                <dd><code>v3.1.2</code></dd>\n",
              "              <dt>Master</dt>\n",
              "                <dd><code>local[4]</code></dd>\n",
              "              <dt>AppName</dt>\n",
              "                <dd><code>Lesson_2</code></dd>\n",
              "            </dl>\n",
              "        </div>\n",
              "        \n",
              "            </div>\n",
              "        "
            ],
            "text/plain": [
              "<pyspark.sql.session.SparkSession at 0x7f75bbcb4e90>"
            ]
          },
          "metadata": {},
          "execution_count": 140
        }
      ]
    },
    {
      "cell_type": "markdown",
      "metadata": {
        "id": "VrBE3PdXtOwT"
      },
      "source": [
        "# Самостоятельная работа\n",
        "\n",
        "Требуется выяснить:\n",
        "1. Какое соотношение сторон экрана телефона самое популярное,\n",
        "2. Плотность пикселей у экрана.\n",
        "\n",
        "Можно использовать только rdd.\n",
        "\n",
        "Всего 8 баллов. \n"
      ]
    },
    {
      "cell_type": "markdown",
      "metadata": {
        "id": "FjAfrNtXSKBz"
      },
      "source": [
        "## Считывание данных\n",
        "Данные взяты отсюда: https://www.kaggle.com/iabhishekofficial/mobile-price-classification\n",
        "Скачиваем и копируем в папку с нотебуком\n",
        "\n",
        "Внутри содержится следующая информация:\n",
        "\n",
        "* id: ID\n",
        "* battery_power: Total energy a battery can store in one time (mAh)\n",
        "* blue: Support bluetooth or not\n",
        "* clock_speed: Speed at which microprocessor executes instructions\n",
        "* dual_sim: Support dual sim or not\n",
        "* fc: Front Camera mega pixels\n",
        "* four_g: Support 4G or not\n",
        "* int_memory: Internal Memory (GB)\n",
        "* m_dep: Mobile Depth (cm)\n",
        "* mobile_wt: Weight of mobile phone\n",
        "* n_cores: Number of cores of processor\n",
        "* pc: Primary Camera mega pixels\n",
        "* px_height: Pixel Resolution Height\n",
        "* px_width: Pixel Resolution Width\n",
        "* ram: Random Access Memory (MB)\n",
        "* sc_h: Screen Height of mobile (cm)\n",
        "* sc_w: Screen Width of mobile (cm)\n",
        "* talk_time: Time that a single battery charge will last\n",
        "* three_g: Support 3G or not\n",
        "* touch_screen: Has touch screen or not\n",
        "* wifi: Support wifi or not"
      ]
    },
    {
      "cell_type": "code",
      "metadata": {
        "id": "3VyKjYOSkLlp"
      },
      "source": [
        "train = sc.textFile('/content/train.csv')\n",
        "test = sc.textFile('/content/test.csv')"
      ],
      "execution_count": null,
      "outputs": []
    },
    {
      "cell_type": "code",
      "metadata": {
        "id": "E9Vb0d0hutEb",
        "colab": {
          "base_uri": "https://localhost:8080/"
        },
        "outputId": "3f4a0ef5-1a56-4961-db79-3e2b5a4f0160"
      },
      "source": [
        "# Выведите содержимое каждого файла (часть строк) (1 балл)\n",
        "###############\n",
        "data = sc.textFile('train.csv')\n",
        "data.take(3)"
      ],
      "execution_count": null,
      "outputs": [
        {
          "output_type": "execute_result",
          "data": {
            "text/plain": [
              "['battery_power,blue,clock_speed,dual_sim,fc,four_g,int_memory,m_dep,mobile_wt,n_cores,pc,px_height,px_width,ram,sc_h,sc_w,talk_time,three_g,touch_screen,wifi,price_range',\n",
              " '842,0,2.2,0,1,0,7,0.6,188,2,2,20,756,2549,9,7,19,0,0,1,1',\n",
              " '1021,1,0.5,1,0,1,53,0.7,136,3,6,905,1988,2631,17,3,7,1,1,0,2']"
            ]
          },
          "metadata": {},
          "execution_count": 125
        }
      ]
    },
    {
      "cell_type": "code",
      "metadata": {
        "colab": {
          "base_uri": "https://localhost:8080/"
        },
        "id": "SlbmMg9gt8s5",
        "outputId": "10ef777a-9588-4c14-ca64-7a28d128a045"
      },
      "source": [
        "data = sc.textFile('test.csv')\n",
        "data.take(3)"
      ],
      "execution_count": null,
      "outputs": [
        {
          "output_type": "execute_result",
          "data": {
            "text/plain": [
              "['id,battery_power,blue,clock_speed,dual_sim,fc,four_g,int_memory,m_dep,mobile_wt,n_cores,pc,px_height,px_width,ram,sc_h,sc_w,talk_time,three_g,touch_screen,wifi',\n",
              " '1,1043,1,1.8,1,14,0,5,0.1,193,3,16,226,1412,3476,12,7,2,0,1,0',\n",
              " '2,841,1,0.5,1,4,1,61,0.8,191,5,12,746,857,3895,6,0,7,1,0,0']"
            ]
          },
          "metadata": {},
          "execution_count": 126
        }
      ]
    },
    {
      "cell_type": "code",
      "metadata": {
        "id": "wqnZnEi3vM9l"
      },
      "source": [
        "###############"
      ],
      "execution_count": null,
      "outputs": []
    },
    {
      "cell_type": "code",
      "metadata": {
        "colab": {
          "base_uri": "https://localhost:8080/",
          "height": 35
        },
        "id": "67_AqNRYxiph",
        "outputId": "34206678-d4a9-437a-c337-d0cc4d62c86b"
      },
      "source": [
        "data_header = data.first()\n",
        "data_header"
      ],
      "execution_count": null,
      "outputs": [
        {
          "output_type": "execute_result",
          "data": {
            "application/vnd.google.colaboratory.intrinsic+json": {
              "type": "string"
            },
            "text/plain": [
              "'id,battery_power,blue,clock_speed,dual_sim,fc,four_g,int_memory,m_dep,mobile_wt,n_cores,pc,px_height,px_width,ram,sc_h,sc_w,talk_time,three_g,touch_screen,wifi'"
            ]
          },
          "metadata": {},
          "execution_count": 127
        }
      ]
    },
    {
      "cell_type": "code",
      "metadata": {
        "id": "cYotoi1DyS_-"
      },
      "source": [
        "data = data.filter(lambda row: row != data_header)"
      ],
      "execution_count": null,
      "outputs": []
    },
    {
      "cell_type": "code",
      "metadata": {
        "colab": {
          "base_uri": "https://localhost:8080/"
        },
        "id": "KQuV-GTqyh_b",
        "outputId": "aed2a1e7-fe09-4bbe-8e86-0edfdf49540e"
      },
      "source": [
        "data.take(3)"
      ],
      "execution_count": null,
      "outputs": [
        {
          "output_type": "execute_result",
          "data": {
            "text/plain": [
              "['1,1043,1,1.8,1,14,0,5,0.1,193,3,16,226,1412,3476,12,7,2,0,1,0',\n",
              " '2,841,1,0.5,1,4,1,61,0.8,191,5,12,746,857,3895,6,0,7,1,0,0',\n",
              " '3,1807,1,2.8,0,1,0,27,0.9,186,3,4,1270,1366,2396,17,10,10,0,1,1']"
            ]
          },
          "metadata": {},
          "execution_count": 129
        }
      ]
    },
    {
      "cell_type": "markdown",
      "metadata": {
        "id": "5pNi9czovHNh"
      },
      "source": [
        "##  Преобразуем train и test"
      ]
    },
    {
      "cell_type": "code",
      "metadata": {
        "id": "8PzsLhWdvCY_"
      },
      "source": [
        "train_first_row = train.first()\n",
        "\n",
        "train = train\\\n",
        "    .filter(lambda row: row != train_first_row)\\\n",
        "    .map(lambda row: [float(el) for el in row.split(',')])"
      ],
      "execution_count": null,
      "outputs": []
    },
    {
      "cell_type": "code",
      "metadata": {
        "colab": {
          "base_uri": "https://localhost:8080/"
        },
        "id": "zFmJmbb4_LWV",
        "outputId": "c47e1405-3a7f-4216-dcd5-a5b6b9cc5946"
      },
      "source": [
        "beautiful_print(train, 3, 'Our rdd')"
      ],
      "execution_count": null,
      "outputs": [
        {
          "output_type": "stream",
          "text": [
            "Our rdd\n",
            "\t [842.0, 0.0, 2.2, 0.0, 1.0, 0.0, 7.0, 0.6, 188.0, 2.0, 2.0, 20.0, 756.0, 2549.0, 9.0, 7.0, 19.0, 0.0, 0.0, 1.0, 1.0]\n",
            "\t [1021.0, 1.0, 0.5, 1.0, 0.0, 1.0, 53.0, 0.7, 136.0, 3.0, 6.0, 905.0, 1988.0, 2631.0, 17.0, 3.0, 7.0, 1.0, 1.0, 0.0, 2.0]\n",
            "\t [563.0, 1.0, 0.5, 1.0, 2.0, 1.0, 41.0, 0.9, 145.0, 5.0, 6.0, 1263.0, 1716.0, 2603.0, 11.0, 2.0, 9.0, 1.0, 1.0, 0.0, 2.0]\n"
          ],
          "name": "stdout"
        }
      ]
    },
    {
      "cell_type": "code",
      "metadata": {
        "id": "QKCMFiVenNia"
      },
      "source": [
        "# Преобразуйте test (1 балл)\n",
        "###############\n",
        "test_first_row = test.first()\n",
        "\n",
        "test = test\\\n",
        "    .filter(lambda row: row != test_first_row)\\\n",
        "    .map(lambda row: [float(el) for el in row.split(',')])"
      ],
      "execution_count": null,
      "outputs": []
    },
    {
      "cell_type": "code",
      "metadata": {
        "colab": {
          "base_uri": "https://localhost:8080/"
        },
        "id": "TZQ3ricO_eCl",
        "outputId": "525e3b33-0424-4ac3-cec8-f8d1c204d715"
      },
      "source": [
        "beautiful_print(test, 3, 'Our rdd')"
      ],
      "execution_count": null,
      "outputs": [
        {
          "output_type": "stream",
          "text": [
            "Our rdd\n",
            "\t [1.0, 1043.0, 1.0, 1.8, 1.0, 14.0, 0.0, 5.0, 0.1, 193.0, 3.0, 16.0, 226.0, 1412.0, 3476.0, 12.0, 7.0, 2.0, 0.0, 1.0, 0.0]\n",
            "\t [2.0, 841.0, 1.0, 0.5, 1.0, 4.0, 1.0, 61.0, 0.8, 191.0, 5.0, 12.0, 746.0, 857.0, 3895.0, 6.0, 0.0, 7.0, 1.0, 0.0, 0.0]\n",
            "\t [3.0, 1807.0, 1.0, 2.8, 0.0, 1.0, 0.0, 27.0, 0.9, 186.0, 3.0, 4.0, 1270.0, 1366.0, 2396.0, 17.0, 10.0, 10.0, 0.0, 1.0, 1.0]\n"
          ],
          "name": "stdout"
        }
      ]
    },
    {
      "cell_type": "code",
      "metadata": {
        "id": "uLv0OkPrAb6B"
      },
      "source": [
        "###############"
      ],
      "execution_count": null,
      "outputs": []
    },
    {
      "cell_type": "markdown",
      "metadata": {
        "id": "kjCdeAS4v1Vc"
      },
      "source": [
        "## Объединим train и test\n",
        "Найти нужную функцию можно [здесь](https://spark.apache.org/docs/3.1.1/api/python/reference/pyspark.html#rdd-apis)\n",
        "\n",
        "PS: нужно сделать средсвтвами rdd pd.concat([train, test,], axis=0)"
      ]
    },
    {
      "cell_type": "code",
      "metadata": {
        "id": "5-Oeq54KxhXa"
      },
      "source": [
        "# Объедините train и test (2 балла)\n",
        "###############\n",
        "# Ваш код здесь\n",
        "# data = rdd pd.concat([train, test,], axis=0)\n",
        "###############"
      ],
      "execution_count": null,
      "outputs": []
    },
    {
      "cell_type": "code",
      "metadata": {
        "colab": {
          "base_uri": "https://localhost:8080/"
        },
        "id": "sEGnTMYAaO1N",
        "outputId": "8642fe54-4421-43f8-a8a0-8ad91c6a06d5"
      },
      "source": [
        "data.take(3)"
      ],
      "execution_count": null,
      "outputs": [
        {
          "output_type": "execute_result",
          "data": {
            "text/plain": [
              "['1,1043,1,1.8,1,14,0,5,0.1,193,3,16,226,1412,3476,12,7,2,0,1,0',\n",
              " '2,841,1,0.5,1,4,1,61,0.8,191,5,12,746,857,3895,6,0,7,1,0,0',\n",
              " '3,1807,1,2.8,0,1,0,27,0.9,186,3,4,1270,1366,2396,17,10,10,0,1,1']"
            ]
          },
          "metadata": {},
          "execution_count": 135
        }
      ]
    },
    {
      "cell_type": "code",
      "metadata": {
        "id": "7SAAi7h7exKr"
      },
      "source": [
        "RDD.intersection()"
      ],
      "execution_count": null,
      "outputs": []
    },
    {
      "cell_type": "markdown",
      "metadata": {
        "id": "GxGGHqRyx7XG"
      },
      "source": [
        "## Рассчитайте соотношение сторон телефона и экрана"
      ]
    },
    {
      "cell_type": "code",
      "metadata": {
        "id": "HckZvR72xs7W",
        "colab": {
          "base_uri": "https://localhost:8080/"
        },
        "outputId": "d042c522-df06-4435-952d-33832b5d0444"
      },
      "source": [
        "# Выведите отсортированное распределение соотношений сторон экрана(1 балла)\n",
        "# в разрезе широкоформатные или нет (экран широкоформатный, если соотногшение >=16:9)\n",
        "###############\n",
        "col_num = data_header.split(',').index('sc_w')\n",
        "data.map(lambda row: (row[col_num], 1)).reduceByKey(lambda x, y: x + y ).sortByKey().collect()\n",
        "###############"
      ],
      "execution_count": null,
      "outputs": [
        {
          "output_type": "execute_result",
          "data": {
            "text/plain": [
              "[(',', 617),\n",
              " ('0', 75),\n",
              " ('1', 124),\n",
              " ('2', 42),\n",
              " ('3', 30),\n",
              " ('4', 28),\n",
              " ('5', 28),\n",
              " ('6', 21),\n",
              " ('7', 15),\n",
              " ('8', 10),\n",
              " ('9', 10)]"
            ]
          },
          "metadata": {},
          "execution_count": 136
        }
      ]
    },
    {
      "cell_type": "code",
      "metadata": {
        "id": "yZgL4q1gyrRm",
        "colab": {
          "base_uri": "https://localhost:8080/"
        },
        "outputId": "fb494f88-1d00-46dd-be84-c24f3f15c740"
      },
      "source": [
        "# Выведите отсортированное распределение плотности пикселей (1 балла)\n",
        "# точек на дюйм\n",
        "###############\n",
        "col_num = data_header.split(',').index('px_width')\n",
        "data.map(lambda row: (row[col_num], 1)).reduceByKey(lambda x, y: x + y ).sortByKey().collect()\n",
        "###############"
      ],
      "execution_count": null,
      "outputs": [
        {
          "output_type": "execute_result",
          "data": {
            "text/plain": [
              "[(',', 376),\n",
              " ('.', 1),\n",
              " ('0', 39),\n",
              " ('1', 82),\n",
              " ('2', 34),\n",
              " ('3', 37),\n",
              " ('4', 38),\n",
              " ('5', 159),\n",
              " ('6', 66),\n",
              " ('7', 48),\n",
              " ('8', 63),\n",
              " ('9', 57)]"
            ]
          },
          "metadata": {},
          "execution_count": 137
        }
      ]
    },
    {
      "cell_type": "markdown",
      "metadata": {
        "id": "PNAGeyOmzEN4"
      },
      "source": [
        "# JOIN\n",
        "Повторите вышеописанное задание с помощью одной из функций ниже (отдельно рассчитайте для train и test, затем объедините результат)\n",
        "\n",
        "Пример для двух RDDs: (rdd = {(1, 2), (3, 4), (3, 6)} other = {(3, 9)})\n",
        "\n",
        "Имя функции |\tPurpose |\tExample |\tResult\n",
        "------------- |\t------- |\t------- |\t------\n",
        "subtractByKey |Remove elements with a key present in the other RDD.| rdd.subtractByKey(other) | {(1, 2)}\n",
        "join | Perform an inner join between two RDDs. | rdd.join(other) | {(3, (4, 9)), (3, (6, 9))}\n",
        "rightOuterJoin | Perform a join between two RDDs where the key must be present in the first RDD. | rdd.rightOuterJoin(other) | {(3,(Some(4),9)), (3,(Some(6),9))}leftOuterJoin | Perform a join between two RDDs where the key must be present in the other RDD. | rdd.leftOuterJoin(other) | {(1,(2,None)), (3,(4,Some(9))), (3,(6,Some(9)))}\n",
        "cogroup | Group data from both RDDs sharing the same key. | rdd.cogroup(other) | {(1,([2],[])), (3,([4, 6],[9]))}\n"
      ]
    },
    {
      "cell_type": "code",
      "metadata": {
        "id": "kRb1q9QizDiH"
      },
      "source": [
        "# 2 балла\n",
        "###############\n",
        "# Ваш код здесь\n",
        "###############"
      ],
      "execution_count": null,
      "outputs": []
    },
    {
      "cell_type": "markdown",
      "metadata": {
        "id": "uySWyv8CXIMF"
      },
      "source": [
        "# DataFrame\n",
        "Теперь мы знаем про Dataframe. Нужно сделать практически всё то же самое, но используя датафрейм."
      ]
    },
    {
      "cell_type": "code",
      "metadata": {
        "colab": {
          "base_uri": "https://localhost:8080/"
        },
        "id": "56itAN_AA13M",
        "outputId": "ebb40132-73fb-4549-f791-874a967e4e19"
      },
      "source": [
        "df = spark.read.csv('train.csv', header=True)\n",
        "df.show(1, vertical=True)"
      ],
      "execution_count": null,
      "outputs": [
        {
          "output_type": "stream",
          "text": [
            "-RECORD 0-------------\n",
            " battery_power | 842  \n",
            " blue          | 0    \n",
            " clock_speed   | 2.2  \n",
            " dual_sim      | 0    \n",
            " fc            | 1    \n",
            " four_g        | 0    \n",
            " int_memory    | 7    \n",
            " m_dep         | 0.6  \n",
            " mobile_wt     | 188  \n",
            " n_cores       | 2    \n",
            " pc            | 2    \n",
            " px_height     | 20   \n",
            " px_width      | 756  \n",
            " ram           | 2549 \n",
            " sc_h          | 9    \n",
            " sc_w          | 7    \n",
            " talk_time     | 19   \n",
            " three_g       | 0    \n",
            " touch_screen  | 0    \n",
            " wifi          | 1    \n",
            " price_range   | 1    \n",
            "only showing top 1 row\n",
            "\n"
          ],
          "name": "stdout"
        }
      ]
    },
    {
      "cell_type": "code",
      "metadata": {
        "colab": {
          "base_uri": "https://localhost:8080/"
        },
        "id": "KMLjZm0IEx3S",
        "outputId": "ef1ef9ff-d653-4c3b-fdb0-e677d25e2a32"
      },
      "source": [
        "df.describe().show()"
      ],
      "execution_count": null,
      "outputs": [
        {
          "output_type": "stream",
          "text": [
            "+-------+-----------------+------------------+------------------+------------------+-----------------+-------------------+------------------+------------------+-----------------+------------------+-----------------+------------------+-----------------+------------------+-----------------+-----------------+-----------------+-----------------+------------------+------------------+------------------+\n",
            "|summary|    battery_power|              blue|       clock_speed|          dual_sim|               fc|             four_g|        int_memory|             m_dep|        mobile_wt|           n_cores|               pc|         px_height|         px_width|               ram|             sc_h|             sc_w|        talk_time|          three_g|      touch_screen|              wifi|       price_range|\n",
            "+-------+-----------------+------------------+------------------+------------------+-----------------+-------------------+------------------+------------------+-----------------+------------------+-----------------+------------------+-----------------+------------------+-----------------+-----------------+-----------------+-----------------+------------------+------------------+------------------+\n",
            "|  count|             2000|              2000|              2000|              2000|             2000|               2000|              2000|              2000|             2000|              2000|             2000|              2000|             2000|              2000|             2000|             2000|             2000|             2000|              2000|              2000|              2000|\n",
            "|   mean|        1238.5185|             0.495|1.5222499999999983|            0.5095|           4.3095|             0.5215|           32.0465|0.5017500000000017|          140.249|            4.5205|           9.9165|           645.108|        1251.5155|          2124.213|          12.3065|            5.767|           11.011|           0.7615|             0.503|             0.507|               1.5|\n",
            "| stddev|439.4182060835313|0.5001000400170073| 0.816004208895068|0.5000347661750049|4.341443747983898|0.49966246736236364|18.145714955206856|0.2884155496235117|35.39965489638834|2.2878367180426618|6.064314941347778|443.78081080643824|432.1994469463379|1084.7320436099492|4.213245004356303|4.356397605826408|5.463955197766688|0.426272922318731|0.5001160445626741|0.5000760322381088|1.1183136021064597|\n",
            "|    min|             1000|                 0|               0.5|                 0|                0|                  0|                10|               0.1|              100|                 1|                0|                 0|             1000|              1005|               10|                0|               10|                0|                 0|                 0|                 0|\n",
            "|    max|              999|                 1|               3.0|                 1|                9|                  1|                 9|               1.0|               99|                 8|                9|               997|              999|               999|                9|                9|                9|                1|                 1|                 1|                 3|\n",
            "+-------+-----------------+------------------+------------------+------------------+-----------------+-------------------+------------------+------------------+-----------------+------------------+-----------------+------------------+-----------------+------------------+-----------------+-----------------+-----------------+-----------------+------------------+------------------+------------------+\n",
            "\n"
          ],
          "name": "stdout"
        }
      ]
    },
    {
      "cell_type": "code",
      "metadata": {
        "colab": {
          "base_uri": "https://localhost:8080/"
        },
        "id": "biiHt623BeTU",
        "outputId": "0894d45d-eae5-4e78-87a6-5fc48abfb402"
      },
      "source": [
        "df = spark.read.csv('test.csv', header=True)\n",
        "df.show(1, vertical=True)"
      ],
      "execution_count": null,
      "outputs": [
        {
          "output_type": "stream",
          "text": [
            "-RECORD 0-------------\n",
            " id            | 1    \n",
            " battery_power | 1043 \n",
            " blue          | 1    \n",
            " clock_speed   | 1.8  \n",
            " dual_sim      | 1    \n",
            " fc            | 14   \n",
            " four_g        | 0    \n",
            " int_memory    | 5    \n",
            " m_dep         | 0.1  \n",
            " mobile_wt     | 193  \n",
            " n_cores       | 3    \n",
            " pc            | 16   \n",
            " px_height     | 226  \n",
            " px_width      | 1412 \n",
            " ram           | 3476 \n",
            " sc_h          | 12   \n",
            " sc_w          | 7    \n",
            " talk_time     | 2    \n",
            " three_g       | 0    \n",
            " touch_screen  | 1    \n",
            " wifi          | 0    \n",
            "only showing top 1 row\n",
            "\n"
          ],
          "name": "stdout"
        }
      ]
    },
    {
      "cell_type": "code",
      "metadata": {
        "colab": {
          "base_uri": "https://localhost:8080/"
        },
        "id": "SKXMGxleCtP1",
        "outputId": "aa39e6f1-723c-4313-c3c0-947c26ef06cc"
      },
      "source": [
        "df.describe().show()"
      ],
      "execution_count": null,
      "outputs": [
        {
          "output_type": "stream",
          "text": [
            "+-------+-----------------+------------------+-------------------+------------------+------------------+-----------------+------------------+------------------+-------------------+------------------+-----------------+------------------+------------------+------------------+-----------------+-----------------+-----------------+-----------------+------------------+-----------------+------------------+\n",
            "|summary|               id|     battery_power|               blue|       clock_speed|          dual_sim|               fc|            four_g|        int_memory|              m_dep|         mobile_wt|          n_cores|                pc|         px_height|          px_width|              ram|             sc_h|             sc_w|        talk_time|           three_g|     touch_screen|              wifi|\n",
            "+-------+-----------------+------------------+-------------------+------------------+------------------+-----------------+------------------+------------------+-------------------+------------------+-----------------+------------------+------------------+------------------+-----------------+-----------------+-----------------+-----------------+------------------+-----------------+------------------+\n",
            "|  count|             1000|              1000|               1000|              1000|              1000|             1000|              1000|              1000|               1000|              1000|             1000|              1000|              1000|              1000|             1000|             1000|             1000|             1000|              1000|             1000|              1000|\n",
            "|   mean|            500.5|           1248.51|              0.516|1.5408999999999984|             0.517|            4.593|             0.487|            33.652|             0.5175|           139.511|            4.328|            10.054|           627.121|          1239.774|         2138.998|           11.995|            5.316|           11.085|             0.756|              0.5|             0.507|\n",
            "| stddev|288.8194360957494|432.45822690523266|0.49999399395792143|0.8292676738393193|0.4999609594367956|4.463325248317923|0.5000810745080052|18.128693983449157|0.28086052166980074|34.851549599831415|2.288154638928858|6.0950991980634965|432.92969923936107|439.67098095677807|1088.092277704791|4.320606744734199|4.240061570557916|5.497635764489947|0.4297076315922823|0.500250187656387|0.5002011607355594|\n",
            "|    min|                1|              1001|                  0|               0.5|                 0|                0|                 0|                10|                0.1|               100|                1|                 0|                 0|              1003|             1005|               10|                0|               10|                 0|                0|                 0|\n",
            "|    max|              999|               996|                  1|                 3|                 1|                9|                 1|                 9|                  1|                99|                8|                 9|               999|               997|              994|                9|                9|                9|                 1|                1|                 1|\n",
            "+-------+-----------------+------------------+-------------------+------------------+------------------+-----------------+------------------+------------------+-------------------+------------------+-----------------+------------------+------------------+------------------+-----------------+-----------------+-----------------+-----------------+------------------+-----------------+------------------+\n",
            "\n"
          ],
          "name": "stdout"
        }
      ]
    },
    {
      "cell_type": "code",
      "metadata": {
        "id": "48HI_jrnbKEk",
        "colab": {
          "base_uri": "https://localhost:8080/"
        },
        "outputId": "fdf559ac-5d74-45fb-b5f0-c67822cee0b3"
      },
      "source": [
        "# Считываем и объединяем данные (1 балл)\n",
        "# Приведите все данные к правильному типу, либо считайе сразу верно (1 балл)\n",
        "# Создаём колонки с соотношением сторон и плотностью пикселей (1 балл)\n",
        "###############\n",
        "df.select('sc_w').groupby('sc_w').count().sort('sc_w').show()\n",
        "###############"
      ],
      "execution_count": null,
      "outputs": [
        {
          "output_type": "stream",
          "text": [
            "+----+-----+\n",
            "|sc_w|count|\n",
            "+----+-----+\n",
            "|   0|  112|\n",
            "|   1|   99|\n",
            "|  10|   52|\n",
            "|  11|   29|\n",
            "|  12|   21|\n",
            "|  13|   23|\n",
            "|  14|   20|\n",
            "|  15|   15|\n",
            "|  16|    7|\n",
            "|  17|    8|\n",
            "|  18|    5|\n",
            "|   2|  107|\n",
            "|   3|   84|\n",
            "|   4|   95|\n",
            "|   5|   93|\n",
            "|   6|   73|\n",
            "|   7|   67|\n",
            "|   8|   44|\n",
            "|   9|   46|\n",
            "+----+-----+\n",
            "\n"
          ],
          "name": "stdout"
        }
      ]
    },
    {
      "cell_type": "markdown",
      "metadata": {
        "id": "FtJ2G-Eob6LI"
      },
      "source": [
        "## Сохранение\n"
      ]
    },
    {
      "cell_type": "code",
      "metadata": {
        "id": "sgRM7IV3b6LJ",
        "colab": {
          "base_uri": "https://localhost:8080/",
          "height": 136
        },
        "outputId": "ec06a8e8-d54a-43df-bf81-024a7823c49b"
      },
      "source": [
        "# Сохраните результат в csv sep=';', encoding='cp1251'\n",
        "# с колонками id, плотность пикселей и временем разговора в формате \"1day 1hour 1minute\"\n",
        "# 2 балла\n",
        "###############\n",
        "df.saveAsTable(hw_2, csv sep=';', encoding='cp1251')\n",
        "###############"
      ],
      "execution_count": null,
      "outputs": [
        {
          "output_type": "error",
          "ename": "SyntaxError",
          "evalue": "ignored",
          "traceback": [
            "\u001b[0;36m  File \u001b[0;32m\"<ipython-input-182-61d6e6f4e413>\"\u001b[0;36m, line \u001b[0;32m5\u001b[0m\n\u001b[0;31m    df.saveAsTable(hw_2, csv sep=';', encoding='cp1251')\u001b[0m\n\u001b[0m                               ^\u001b[0m\n\u001b[0;31mSyntaxError\u001b[0m\u001b[0;31m:\u001b[0m invalid syntax\n"
          ]
        }
      ]
    },
    {
      "cell_type": "code",
      "metadata": {
        "id": "Mc9uG_y2bxV2"
      },
      "source": [
        ""
      ],
      "execution_count": null,
      "outputs": []
    }
  ]
}
